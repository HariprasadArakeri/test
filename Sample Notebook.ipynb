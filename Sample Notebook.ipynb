{
 "cells": [
  {
   "cell_type": "markdown",
   "metadata": {
    "collapsed": true
   },
   "source": [
    "<h1>My Jupyter Notebook on IBM Watson Studio</h1>"
   ]
  },
  {
   "cell_type": "markdown",
   "metadata": {},
   "source": [
    "<b>Hariprasad</b><br>\n",
    "Data Science \n"
   ]
  },
  {
   "cell_type": "markdown",
   "metadata": {},
   "source": [
    "<i>I am interested in Data Science because I want to contribute to the health care.</i>"
   ]
  },
  {
   "cell_type": "markdown",
   "metadata": {},
   "source": [
    "<h3>The below code will print my name</h3>"
   ]
  },
  {
   "cell_type": "code",
   "execution_count": 2,
   "metadata": {},
   "outputs": [
    {
     "name": "stdout",
     "output_type": "stream",
     "text": [
      "Hariprasad\n"
     ]
    }
   ],
   "source": [
    "print(\"Hariprasad\")"
   ]
  },
  {
   "cell_type": "markdown",
   "metadata": {},
   "source": [
    "<p>The below example shows the usage of bulleted list</p>\n",
    "<ul>\n",
    "        <li>Bengaluru</li>\n",
    "        <li>Delhi</li>\n",
    "        <li>Mumbai</li>\n",
    "</ul>\n",
    "<br>\n",
    "<p>The below example shows the usage of numbered list</p>\n",
    "<ol>\n",
    "    <li>Chennai</li>\n",
    "    <li>Kolkatta</li>\n",
    "    <li>Lucknow</li>\n",
    "</ol>\n",
    "<br>\n",
    "<p>The below example shows the usage of hyperlink</p>\n",
    "<a href=\"https://www.google.com/\">Click here to go to google</a>"
   ]
  },
  {
   "cell_type": "code",
   "execution_count": null,
   "metadata": {},
   "outputs": [],
   "source": []
  }
 ],
 "metadata": {
  "kernelspec": {
   "display_name": "Python 3.9",
   "language": "python",
   "name": "python3"
  },
  "language_info": {
   "codemirror_mode": {
    "name": "ipython",
    "version": 3
   },
   "file_extension": ".py",
   "mimetype": "text/x-python",
   "name": "python",
   "nbconvert_exporter": "python",
   "pygments_lexer": "ipython3",
   "version": "3.9.12"
  }
 },
 "nbformat": 4,
 "nbformat_minor": 1
}
